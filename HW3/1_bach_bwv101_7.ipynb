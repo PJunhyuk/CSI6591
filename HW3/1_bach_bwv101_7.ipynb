{
 "cells": [
  {
   "cell_type": "code",
   "execution_count": 1,
   "metadata": {},
   "outputs": [],
   "source": [
    "# import\n",
    "\n",
    "from music21 import *\n",
    "\n",
    "# testing environment settings -> fail\n",
    "\n",
    "# environment.set('musicxmlPath', 'C:\\Program Files (x86)\\MuseScore 2\\\\bin/MuseScore.exe')\n",
    "# environment.set('musescoreDirectPNGPath', 'C:\\Program Files (x86)\\MuseScore 2\\\\bin/MuseScore.exe')"
   ]
  },
  {
   "cell_type": "code",
   "execution_count": 2,
   "metadata": {},
   "outputs": [],
   "source": [
    "## 1. About Bach's chorale 'bach/bwv101.7'"
   ]
  },
  {
   "cell_type": "code",
   "execution_count": 3,
   "metadata": {},
   "outputs": [],
   "source": [
    "## A. Count the number of F3, F4, A3, A4, and C4 notes in the entire song"
   ]
  },
  {
   "cell_type": "code",
   "execution_count": 4,
   "metadata": {},
   "outputs": [],
   "source": [
    "sBach = corpus.parse('bach/bwv101.7')"
   ]
  },
  {
   "cell_type": "code",
   "execution_count": 5,
   "metadata": {},
   "outputs": [
    {
     "name": "stdout",
     "output_type": "stream",
     "text": [
      "<music21.text.TextBox \"PDF © 2004...\">\n",
      "<music21.text.TextBox \"BWV 101.7\">\n",
      "<music21.metadata.Metadata object at 0x0ADBBA90>\n",
      "<music21.stream.Part Soprano>\n",
      "<music21.stream.Part Alto>\n",
      "<music21.stream.Part Tenor>\n",
      "<music21.stream.Part Bass>\n",
      "<music21.layout.ScoreLayout>\n",
      "<music21.layout.StaffGroup <music21.stream.Part Soprano><music21.stream.Part Alto><music21.stream.Part Tenor><music21.stream.Part Bass>>\n"
     ]
    }
   ],
   "source": [
    "for i in range(len(sBach)):\n",
    "    print(sBach[i])"
   ]
  },
  {
   "cell_type": "code",
   "execution_count": 6,
   "metadata": {},
   "outputs": [],
   "source": [
    "count_F3 = 0\n",
    "count_F4 = 0\n",
    "count_A3 = 0\n",
    "count_A4 = 0\n",
    "count_C4 = 0\n",
    "for k in range(3, 7): ## Soprano: 3 / Alto: 4 / Tenor: 5 / Bass: 6\n",
    "    for i in range(1, len(sBach[k])): ## sBach[3][0] is meta data\n",
    "        for j in range(0, len(sBach[k][i])):\n",
    "            if sBach[k][i][j] == note.Note(\"F3\"):\n",
    "                count_F3 = count_F3 + 1\n",
    "            elif sBach[k][i][j] == note.Note(\"F4\"):\n",
    "                count_F4 = count_F4 + 1\n",
    "            elif sBach[k][i][j] == note.Note(\"A3\"):\n",
    "                count_A3 = count_A3 + 1\n",
    "            elif sBach[k][i][j] == note.Note(\"A4\"):\n",
    "                count_A4 = count_A4 + 1\n",
    "            elif sBach[k][i][j] == note.Note(\"C4\"):\n",
    "                count_C4 = count_C4 + 1"
   ]
  },
  {
   "cell_type": "code",
   "execution_count": 7,
   "metadata": {},
   "outputs": [
    {
     "name": "stdout",
     "output_type": "stream",
     "text": [
      "F3: 6\n",
      "F4: 12\n",
      "A3: 11\n",
      "A4: 14\n",
      "C4: 8\n"
     ]
    }
   ],
   "source": [
    "print(\"F3:\", count_F3)\n",
    "print(\"F4:\", count_F4)\n",
    "print(\"A3:\", count_A3)\n",
    "print(\"A4:\", count_A4)\n",
    "print(\"C4:\", count_C4)"
   ]
  },
  {
   "cell_type": "code",
   "execution_count": 8,
   "metadata": {},
   "outputs": [],
   "source": [
    "## B. Find the total sum of the local offset (for its measure) and the global offset (for the entire song) of all the notes in the tenor part"
   ]
  },
  {
   "cell_type": "code",
   "execution_count": 9,
   "metadata": {},
   "outputs": [],
   "source": [
    "global_offset = -1\n",
    "sum_local_offset = 0\n",
    "sum_global_offset = 0\n",
    "for i in range(1, len(sBach[5])): ## Tenor: 5\n",
    "    for thisNote in sBach[5][i].getElementsByClass(note.Note):\n",
    "        global_offset = global_offset + 1\n",
    "#         print(thisNote, int(thisNote.offset), global_offset)\n",
    "        sum_local_offset = sum_local_offset + int(thisNote.offset)\n",
    "        sum_global_offset = sum_global_offset + global_offset"
   ]
  },
  {
   "cell_type": "code",
   "execution_count": 10,
   "metadata": {},
   "outputs": [
    {
     "name": "stdout",
     "output_type": "stream",
     "text": [
      "The total sum of the local offset: 64\n",
      "The total sum of the global offset: 1326\n"
     ]
    }
   ],
   "source": [
    "print(\"The total sum of the local offset:\", sum_local_offset)\n",
    "print(\"The total sum of the global offset:\", sum_global_offset)"
   ]
  },
  {
   "cell_type": "code",
   "execution_count": 11,
   "metadata": {},
   "outputs": [],
   "source": [
    "## C. If the pitches of the notes in the melody of the Soprano part are repeated, combine them all together to a single note (for example, (C5 quater) (C5 quater) (C5 half) can be combined to (C5 whole)). Show the revised score."
   ]
  },
  {
   "cell_type": "code",
   "execution_count": 12,
   "metadata": {
    "scrolled": false
   },
   "outputs": [],
   "source": [
    "note_num = 0\n",
    "for i in range(1, len(sBach[3])): ## Soprano: 3\n",
    "    for thisNote in sBach[3][i].getElementsByClass(note.Note):\n",
    "        note_num = note_num + 1\n",
    "        if note_num == 1: ## first node\n",
    "            prev_note = thisNote\n",
    "        else:\n",
    "            if thisNote.pitch == prev_note.pitch:\n",
    "                ## Use tie instead of combining notes, because soprano has melody\n",
    "                prev_note.tie = tie.Tie('start')\n",
    "                prev_note.tie.style = 'normal'\n",
    "                thisNote.tie = tie.Tie('stop')\n",
    "            prev_note = thisNote"
   ]
  },
  {
   "cell_type": "code",
   "execution_count": 13,
   "metadata": {},
   "outputs": [],
   "source": [
    "# sBach.show() ## error in jupyter notebook"
   ]
  }
 ],
 "metadata": {
  "kernelspec": {
   "display_name": "Python 3",
   "language": "python",
   "name": "python3"
  },
  "language_info": {
   "codemirror_mode": {
    "name": "ipython",
    "version": 3
   },
   "file_extension": ".py",
   "mimetype": "text/x-python",
   "name": "python",
   "nbconvert_exporter": "python",
   "pygments_lexer": "ipython3",
   "version": "3.7.0"
  }
 },
 "nbformat": 4,
 "nbformat_minor": 2
}
